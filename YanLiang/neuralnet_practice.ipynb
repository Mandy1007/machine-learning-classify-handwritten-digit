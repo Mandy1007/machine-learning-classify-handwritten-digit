{
 "cells": [
  {
   "cell_type": "code",
   "execution_count": 423,
   "metadata": {
    "collapsed": false
   },
   "outputs": [],
   "source": [
    "#initialize the weights for now randomly\n",
    "#first a testing right now\n",
    "#784 input, 100 nuerals in the hidden layer, 10 output\n",
    "#make the network working by initialize small divide it by 800.\n",
    "def initializeWeight1():\n",
    "    weights1=numpy.random.random((784+1, 100))/800\n",
    "    #1 for bias\n",
    "    return weights1\n",
    "def initializeWeight2():\n",
    "    weights2=numpy.random.random((100+1,10))/800\n",
    "    #1 for bias \n",
    "    return weights2\n",
    "step=0.01\n"
   ]
  },
  {
   "cell_type": "code",
   "execution_count": 384,
   "metadata": {
    "collapsed": false
   },
   "outputs": [],
   "source": [
    "weights1=initializeWeight1()\n",
    "weights1Old=weights1\n",
    "weights2=initializeWeight2()\n",
    "weights2Old=weights2\n"
   ]
  },
  {
   "cell_type": "code",
   "execution_count": 385,
   "metadata": {
    "collapsed": true
   },
   "outputs": [],
   "source": [
    "import math\n",
    "import numpy as np\n",
    "import pandas as pd\n"
   ]
  },
  {
   "cell_type": "code",
   "execution_count": 386,
   "metadata": {
    "collapsed": false
   },
   "outputs": [],
   "source": [
    "def sigmoidFunc(x):\n",
    "    return math.tanh(x)\n",
    "    "
   ]
  },
  {
   "cell_type": "code",
   "execution_count": 387,
   "metadata": {
    "collapsed": true
   },
   "outputs": [],
   "source": [
    "def dsigmoidFunc(sigmoidValue):\n",
    "    return 1-sigmoidValue**2"
   ]
  },
  {
   "cell_type": "code",
   "execution_count": 388,
   "metadata": {
    "collapsed": false
   },
   "outputs": [],
   "source": [
    "training_set=pd.read_csv('../train.csv')\n",
    "labels=np.array(training_set)[:,0]\n",
    "features=np.array(training_set)[:,0:].astype(float)/255\n",
    "features[:,0]=[1.0]*42000   #add this one for bias"
   ]
  },
  {
   "cell_type": "code",
   "execution_count": 389,
   "metadata": {
    "collapsed": false
   },
   "outputs": [],
   "source": [
    "#feedForward1\n",
    "def feedForward1(pointChoseFromDataset):\n",
    "    \n",
    "    firstLayerResult=[]\n",
    "    firstLayerResult.append(1)\n",
    "    #this is for the bias part\n",
    "    for i in range(100):\n",
    "        temp=weights1[:,i];\n",
    "        firstLayerResult.append(sigmoidFunc(sum(p*q for p,q in zip(pointChoseFromDataset,temp))))\n",
    "    return firstLayerResult\n",
    "\n",
    "        \n"
   ]
  },
  {
   "cell_type": "code",
   "execution_count": 390,
   "metadata": {
    "collapsed": false
   },
   "outputs": [],
   "source": [
    "#feedForward2\n",
    "def feedForward2(firstLayerResult):\n",
    "    secondLayerResult=[]\n",
    "    for i in range(10):\n",
    "        temp=weights2[:,i]\n",
    "        secondLayerResult.append(sigmoidFunc(sum(p*q for p,q in zip(firstLayerResult,temp))))\n",
    "    return secondLayerResult\n",
    "\n",
    "        "
   ]
  },
  {
   "cell_type": "code",
   "execution_count": 391,
   "metadata": {
    "collapsed": true
   },
   "outputs": [],
   "source": [
    "def get10LableResultFromLabels(stochasticPoint):\n",
    "    #this is will return a size 10 array with for that stochastic point\n",
    "    finalResult=labels[stochasticPoint]\n",
    "    arrayResult=[0]*10\n",
    "    for j in range(10):\n",
    "        if(finalResult==j):\n",
    "            arrayResult[j]=1\n",
    "            break\n",
    "    return arrayResult\n"
   ]
  },
  {
   "cell_type": "code",
   "execution_count": 424,
   "metadata": {
    "collapsed": true
   },
   "outputs": [],
   "source": [
    "#this is to update the weights\n",
    "def updateMatrix(toBeUpdatedMatrix,delta,previousLayerX):\n",
    "    #this will lose the previous weights1\n",
    "    for i in range(101):\n",
    "        for j in range(10):\n",
    "            toBeUpdatedMatrix[i][j]=toBeUpdatedMatrix[i][j]-step*delta[j]*previousLayerX[i]\n",
    "    return toBeUpdatedMatrix\n"
   ]
  },
  {
   "cell_type": "code",
   "execution_count": 445,
   "metadata": {
    "collapsed": true
   },
   "outputs": [],
   "source": [
    "#run back propagation\n",
    "def backPropagation():\n",
    "    stochasticPoint=random.randint(1,42000)\n",
    "    pointChoseFromDataset=features[stochasticPoint]\n",
    "    labelResult=get10LableResultFromLabels(stochasticPoint)\n",
    "    firstLayerResult=feedForward1(pointChoseFromDataset)\n",
    "    result=feedForward2(firstLayerResult)\n",
    "    deltaLastLayer=np.multiply(np.subtract(np.array(result),labelResult),np.subtract(1,np.multiply(result,result)))\n",
    "    updateMatrix(weights2,deltaLastLayer,firstLayerResult)\n",
    "    deltaFirstLayer=np.multiply(np.subtract(1,np.multiply(firstLayerResult,firstLayerResult)),np.dot(weights2Old,deltaLastLayer))\n",
    "    #is this one should be weights old or weights new?\n",
    "    updateMatrix(weights1,deltaFirstLayer,pointChoseFromDataset)\n",
    "    return test    "
   ]
  },
  {
   "cell_type": "code",
   "execution_count": 446,
   "metadata": {
    "collapsed": false
   },
   "outputs": [],
   "source": [
    "test=backPropagation()"
   ]
  },
  {
   "cell_type": "code",
   "execution_count": 452,
   "metadata": {
    "collapsed": false
   },
   "outputs": [
    {
     "data": {
      "text/plain": [
       "array([[  8.13052189e-04,   9.46232239e-05,   1.22590798e-03, ...,\n",
       "          1.09342097e-03,   5.86911512e-04,   8.81946303e-04],\n",
       "       [  4.85615541e-04,   5.03186633e-04,   1.16888400e-03, ...,\n",
       "          8.03803242e-04,   1.44680603e-04,   1.24979548e-03],\n",
       "       [  3.36836137e-04,   5.39340749e-04,   2.73813964e-04, ...,\n",
       "          3.17735659e-04,   6.17129310e-05,   8.26498619e-04],\n",
       "       ..., \n",
       "       [  6.00564854e-04,   2.62229864e-04,   1.16802882e-03, ...,\n",
       "          1.03751372e-03,   1.24522695e-03,   7.22229065e-04],\n",
       "       [  4.83239213e-04,   5.20835092e-04,   7.05765424e-04, ...,\n",
       "          7.30167613e-04,   5.58517139e-04,   6.05436980e-04],\n",
       "       [  4.62898595e-04,   9.39738457e-04,   7.04114820e-04, ...,\n",
       "          9.07841920e-04,   1.18141792e-03,   1.16241906e-03]])"
      ]
     },
     "execution_count": 452,
     "metadata": {},
     "output_type": "execute_result"
    }
   ],
   "source": [
    "test"
   ]
  },
  {
   "cell_type": "code",
   "execution_count": 453,
   "metadata": {
    "collapsed": false
   },
   "outputs": [
    {
     "data": {
      "text/plain": [
       "array([[  8.13052189e-04,   9.46232239e-05,   1.22590798e-03, ...,\n",
       "          1.09342097e-03,   5.86911512e-04,   8.81946303e-04],\n",
       "       [  4.85615541e-04,   5.03186633e-04,   1.16888400e-03, ...,\n",
       "          8.03803242e-04,   1.44680603e-04,   1.24979548e-03],\n",
       "       [  3.36836137e-04,   5.39340749e-04,   2.73813964e-04, ...,\n",
       "          3.17735659e-04,   6.17129310e-05,   8.26498619e-04],\n",
       "       ..., \n",
       "       [  6.00564854e-04,   2.62229864e-04,   1.16802882e-03, ...,\n",
       "          1.03751372e-03,   1.24522695e-03,   7.22229065e-04],\n",
       "       [  4.83239213e-04,   5.20835092e-04,   7.05765424e-04, ...,\n",
       "          7.30167613e-04,   5.58517139e-04,   6.05436980e-04],\n",
       "       [  4.62898595e-04,   9.39738457e-04,   7.04114820e-04, ...,\n",
       "          9.07841920e-04,   1.18141792e-03,   1.16241906e-03]])"
      ]
     },
     "execution_count": 453,
     "metadata": {},
     "output_type": "execute_result"
    }
   ],
   "source": [
    "weights1Old"
   ]
  },
  {
   "cell_type": "code",
   "execution_count": 429,
   "metadata": {
    "collapsed": false
   },
   "outputs": [
    {
     "data": {
      "text/plain": [
       "array([12, 30, 48])"
      ]
     },
     "execution_count": 429,
     "metadata": {},
     "output_type": "execute_result"
    }
   ],
   "source": [
    "#very good example to do dot production\n",
    "test1=np.array([[1,2,3],[4,5,6],[7,8,9]])\n",
    "test2=np.array([2,2,2])\n",
    "final=np.dot(test1,test2)\n",
    "final\n"
   ]
  },
  {
   "cell_type": "code",
   "execution_count": null,
   "metadata": {
    "collapsed": true
   },
   "outputs": [],
   "source": []
  }
 ],
 "metadata": {
  "kernelspec": {
   "display_name": "Python 3",
   "language": "python",
   "name": "python3"
  },
  "language_info": {
   "codemirror_mode": {
    "name": "ipython",
    "version": 3
   },
   "file_extension": ".py",
   "mimetype": "text/x-python",
   "name": "python",
   "nbconvert_exporter": "python",
   "pygments_lexer": "ipython3",
   "version": "3.4.0"
  }
 },
 "nbformat": 4,
 "nbformat_minor": 0
}
