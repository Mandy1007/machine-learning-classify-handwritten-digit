{
 "cells": [
  {
   "cell_type": "code",
   "execution_count": 297,
   "metadata": {
    "collapsed": false
   },
   "outputs": [],
   "source": [
    "import numpy as np\n",
    "import math\n",
    "import pandas as pd\n",
    "NoOfNodesFirstLayer=20\n",
    "alpha=0.1\n",
    "\n",
    "\n",
    "    "
   ]
  },
  {
   "cell_type": "code",
   "execution_count": 298,
   "metadata": {
    "collapsed": true
   },
   "outputs": [],
   "source": [
    "#initialize weight\n",
    "\n",
    "def initializeWeight1():\n",
    "    weights=(np.random.rand(785,NoOfNodesFirstLayer+1)*2-1)\n",
    "    return weights\n",
    "def initializeWeight2():\n",
    "    weights=(np.random.rand(NoOfNodesFirstLayer+1,10)*2-1)\n",
    "    return weights\n",
    "def secondLayerSigmoid(x):\n",
    "    return 1/(1+math.exp(x*-1))\n",
    "def firstLayerSigmoid(x):\n",
    "    return math.tanh(x)\n",
    "def dfirstLayerSigmoid(x):\n",
    "    return 1-(math.tanh(x))**2\n",
    "def dsecondLayerSigmoid(x):\n",
    "    return 1/(2+math.exp(x)+math.exp(x*-1))"
   ]
  },
  {
   "cell_type": "code",
   "execution_count": 299,
   "metadata": {
    "collapsed": false
   },
   "outputs": [],
   "source": [
    "weights1=initializeWeight1()\n",
    "weights2=initializeWeight2()\n",
    "weights1old=weights1\n",
    "weights2old=weights2"
   ]
  },
  {
   "cell_type": "code",
   "execution_count": 300,
   "metadata": {
    "collapsed": false
   },
   "outputs": [
    {
     "data": {
      "text/plain": [
       "array([[  4.65604103e-01,   7.93124798e-01,  -6.85439657e-01, ...,\n",
       "         -4.46146952e-02,   8.24343307e-01,   1.69828706e-05],\n",
       "       [ -7.51644679e-01,  -4.50830492e-01,   4.51155309e-01, ...,\n",
       "          8.30130785e-02,   1.04384536e-02,  -8.18445170e-01],\n",
       "       [  9.37086865e-01,   5.87900595e-01,   9.98965685e-02, ...,\n",
       "          3.80946568e-01,   5.51769936e-01,   8.30277350e-01],\n",
       "       ..., \n",
       "       [ -4.43483255e-01,   6.39019806e-01,  -5.21045986e-01, ...,\n",
       "          4.61882972e-01,  -7.94949326e-01,   8.24136003e-01],\n",
       "       [  4.90303571e-01,  -7.95480640e-01,   2.17073561e-01, ...,\n",
       "         -6.81241938e-02,   9.17892271e-01,  -6.28627132e-01],\n",
       "       [  4.50347233e-01,   9.79824729e-01,  -4.44329871e-01, ...,\n",
       "          3.71502438e-01,   5.50273376e-01,   9.79497823e-01]])"
      ]
     },
     "execution_count": 300,
     "metadata": {},
     "output_type": "execute_result"
    }
   ],
   "source": []
  },
  {
   "cell_type": "code",
   "execution_count": 301,
   "metadata": {
    "collapsed": false
   },
   "outputs": [],
   "source": [
    "training_set=pd.read_csv('../train.csv')\n",
    "labels=np.array(training_set)[:,0]\n",
    "features=np.array(training_set)[:,0:].astype(float)/255\n",
    "features[:,0]=[1.0]*42000"
   ]
  },
  {
   "cell_type": "code",
   "execution_count": 302,
   "metadata": {
    "collapsed": true
   },
   "outputs": [],
   "source": [
    "#this will return an array after the first layer\n",
    "def firstLayerAction(input,weights,NoOfNodesFirstLayer):\n",
    "    firstLayerResult=[]\n",
    "    firstLayerResult.append(1)\n",
    "    for i in range(NoOfNodesFirstLayer):\n",
    "        temp=weights1[:,i]\n",
    "        firstLayerResult.append(firstLayerSigmoid(np.dot(temp,input)))\n",
    "    return firstLayerResult\n",
    "\n"
   ]
  },
  {
   "cell_type": "code",
   "execution_count": 303,
   "metadata": {
    "collapsed": true
   },
   "outputs": [],
   "source": [
    "def firstLayerSum(input,weights,NoOfNodesFirstLayer):\n",
    "    firstLayerSum=[]\n",
    "    #it does not have the biased part\n",
    "    for i in range(NoOfNodesFirstLayer):\n",
    "        temp=weights1[:,i]\n",
    "        firstLayerSum.append(np.dot(temp,input))\n",
    "    return firstLayerSum\n",
    "    "
   ]
  },
  {
   "cell_type": "code",
   "execution_count": 304,
   "metadata": {
    "collapsed": false
   },
   "outputs": [],
   "source": [
    "def secondLayerAction(input,weights):\n",
    "    outputLayerResult=[]\n",
    "    for i in range(10):\n",
    "        temp=weights[:,i]\n",
    "        outputLayerResult.append(secondLayerSigmoid(np.dot(temp,input)))\n",
    "    return outputLayerResult"
   ]
  },
  {
   "cell_type": "code",
   "execution_count": 305,
   "metadata": {
    "collapsed": true
   },
   "outputs": [],
   "source": [
    "def secondLayerSum(input,weights):\n",
    "    outputLayerResult=[]\n",
    "    for i in range(10):\n",
    "        temp=weights[:,i]\n",
    "        outputLayerResult.append(np.dot(temp,input))\n",
    "    return outputLayerResult"
   ]
  },
  {
   "cell_type": "code",
   "execution_count": 307,
   "metadata": {
    "collapsed": false
   },
   "outputs": [],
   "source": [
    "def get10LableResultFromLabels(output):\n",
    "    #this is will return a size 10 array with for that stochastic point\n",
    "    returnArray=[]\n",
    "    for i in range(10):\n",
    "        if(output==i):\n",
    "            returnArray.append(1)\n",
    "        else:\n",
    "            returnArray.append(0)\n",
    "    return returnArray\n",
    "        "
   ]
  },
  {
   "cell_type": "code",
   "execution_count": 324,
   "metadata": {
    "collapsed": true
   },
   "outputs": [],
   "source": [
    "def updateWeights(a2,realOutput,estimatedOutput,outputFromHiddenLayer,sumInFirstLayer,inputLayer):\n",
    "    #this is update weight1:\n",
    "    deltaK2Array=[]\n",
    "    for k in range(10):\n",
    "        deltaK2=(realOutput[k]-estimatedOutput[k])*dsecondLayerSigmoid(a2[k])\n",
    "        deltaK2Array.append(deltaK2)\n",
    "        for j in range(NoOfNodesFirstLayer+1):\n",
    "            weights2[j][k]=weights2[j][k]+alpha*outputFromHiddenLayer[j]*deltaK2\n",
    "    for j in range(NoOfNodesFirstLayer+1):\n",
    "        deltaJ1=np.dot(weights2[j,:],deltaK2Array)*dfirstLayerSigmoid(sumInFirstLayer[j])\n",
    "        for i in range(785):\n",
    "            weights1[i][j]=weights1[i][j]+alpha*inputLayer[i]*deltaJ1\n",
    "    "
   ]
  },
  {
   "cell_type": "code",
   "execution_count": 325,
   "metadata": {
    "collapsed": false
   },
   "outputs": [],
   "source": [
    "a2=secondLayerSum(firstLayerAction(features[1],weights1,20),weights2)"
   ]
  },
  {
   "cell_type": "code",
   "execution_count": 326,
   "metadata": {
    "collapsed": false
   },
   "outputs": [
    {
     "data": {
      "text/plain": [
       "array([[  4.65604103e-01,   7.93124798e-01,  -6.85439657e-01, ...,\n",
       "         -4.46148741e-02,   8.24356147e-01,   1.68246263e-05],\n",
       "       [ -7.51644679e-01,  -4.50830492e-01,   4.51155309e-01, ...,\n",
       "          8.30130785e-02,   1.04384536e-02,  -8.18445170e-01],\n",
       "       [  9.37086865e-01,   5.87900595e-01,   9.98965685e-02, ...,\n",
       "          3.80946568e-01,   5.51769936e-01,   8.30277350e-01],\n",
       "       ..., \n",
       "       [ -4.43483255e-01,   6.39019806e-01,  -5.21045986e-01, ...,\n",
       "          4.61882972e-01,  -7.94949326e-01,   8.24136003e-01],\n",
       "       [  4.90303571e-01,  -7.95480640e-01,   2.17073561e-01, ...,\n",
       "         -6.81241938e-02,   9.17892271e-01,  -6.28627132e-01],\n",
       "       [  4.50347233e-01,   9.79824729e-01,  -4.44329871e-01, ...,\n",
       "          3.71502438e-01,   5.50273376e-01,   9.79497823e-01]])"
      ]
     },
     "execution_count": 326,
     "metadata": {},
     "output_type": "execute_result"
    }
   ],
   "source": [
    "weights1"
   ]
  },
  {
   "cell_type": "code",
   "execution_count": 327,
   "metadata": {
    "collapsed": true
   },
   "outputs": [],
   "source": [
    "realOutput=get10LableResultFromLabels(labels[1])"
   ]
  },
  {
   "cell_type": "code",
   "execution_count": 328,
   "metadata": {
    "collapsed": false
   },
   "outputs": [
    {
     "data": {
      "text/plain": [
       "[1, 0, 0, 0, 0, 0, 0, 0, 0, 0]"
      ]
     },
     "execution_count": 328,
     "metadata": {},
     "output_type": "execute_result"
    }
   ],
   "source": [
    "realOutput"
   ]
  },
  {
   "cell_type": "code",
   "execution_count": 329,
   "metadata": {
    "collapsed": false
   },
   "outputs": [],
   "source": [
    "estimatedOutput=[secondLayerSigmoid(x) for x in a2]"
   ]
  },
  {
   "cell_type": "code",
   "execution_count": 330,
   "metadata": {
    "collapsed": false
   },
   "outputs": [
    {
     "data": {
      "text/plain": [
       "[0.5753317594103795,\n",
       " 0.47762747993357973,\n",
       " 0.10564720681575122,\n",
       " 0.0010793223424144373,\n",
       " 0.9297396289403271,\n",
       " 0.30336287284918184,\n",
       " 0.5646607604055937,\n",
       " 0.760330759892658,\n",
       " 0.43989699922121683,\n",
       " 0.36575159478043917]"
      ]
     },
     "execution_count": 330,
     "metadata": {},
     "output_type": "execute_result"
    }
   ],
   "source": [
    "estimatedOutput"
   ]
  },
  {
   "cell_type": "code",
   "execution_count": 331,
   "metadata": {
    "collapsed": false
   },
   "outputs": [],
   "source": [
    "outputFromHiddenLayer=firstLayerAction(features[1],weights1,20)"
   ]
  },
  {
   "cell_type": "code",
   "execution_count": 332,
   "metadata": {
    "collapsed": false
   },
   "outputs": [
    {
     "data": {
      "text/plain": [
       "[1,\n",
       " 0.999999996610482,\n",
       " 0.9999999999988203,\n",
       " 0.9999999999989609,\n",
       " -0.9804084830902202,\n",
       " -0.999999997889515,\n",
       " 0.9999999640082823,\n",
       " 0.9999999999999999,\n",
       " -0.5644805171197955,\n",
       " -0.9999999327776901,\n",
       " -0.9999998059102786,\n",
       " -0.9999999229217853,\n",
       " 0.9947071183478324,\n",
       " 0.9999999990822867,\n",
       " 0.9999877294210974,\n",
       " 0.9359517797131174,\n",
       " -0.9973855520357313,\n",
       " 0.9985375347783767,\n",
       " -0.9999951378670233,\n",
       " 0.9998177319158804,\n",
       " 0.9999966803736781]"
      ]
     },
     "execution_count": 332,
     "metadata": {},
     "output_type": "execute_result"
    }
   ],
   "source": [
    "outputFromHiddenLayer"
   ]
  },
  {
   "cell_type": "code",
   "execution_count": 333,
   "metadata": {
    "collapsed": false
   },
   "outputs": [],
   "source": [
    "sumInFirstLayer=[]\n",
    "sumInFirstLayer.append(np.arctanh(1))\n",
    "for x in firstLayerSum(features[1],weights1,20):\n",
    "    sumInFirstLayer.append(x)\n"
   ]
  },
  {
   "cell_type": "code",
   "execution_count": 334,
   "metadata": {
    "collapsed": false
   },
   "outputs": [],
   "source": [
    "inputLayer=features[1]\n"
   ]
  },
  {
   "cell_type": "code",
   "execution_count": 335,
   "metadata": {
    "collapsed": false
   },
   "outputs": [],
   "source": [
    "updateWeights(a2,realOutput,estimatedOutput,outputFromHiddenLayer,sumInFirstLayer,inputLayer)\n",
    "    "
   ]
  },
  {
   "cell_type": "code",
   "execution_count": 336,
   "metadata": {
    "collapsed": false
   },
   "outputs": [
    {
     "data": {
      "text/plain": [
       "(785, 21)"
      ]
     },
     "execution_count": 336,
     "metadata": {},
     "output_type": "execute_result"
    }
   ],
   "source": [
    "weights1old.shape"
   ]
  },
  {
   "cell_type": "code",
   "execution_count": 337,
   "metadata": {
    "collapsed": false
   },
   "outputs": [],
   "source": [
    "assert(weights1.all()==weights1old.all())"
   ]
  },
  {
   "cell_type": "code",
   "execution_count": 72,
   "metadata": {
    "collapsed": true
   },
   "outputs": [],
   "source": [
    "test=features[1]"
   ]
  },
  {
   "cell_type": "code",
   "execution_count": 73,
   "metadata": {
    "collapsed": false
   },
   "outputs": [],
   "source": [
    "from PIL import Image"
   ]
  },
  {
   "cell_type": "code",
   "execution_count": 77,
   "metadata": {
    "collapsed": false
   },
   "outputs": [],
   "source": [
    "img=Image.new('RGB',(28,28),\"white\")\n",
    "pixels=img.load()\n",
    "\n"
   ]
  },
  {
   "cell_type": "code",
   "execution_count": 79,
   "metadata": {
    "collapsed": false
   },
   "outputs": [],
   "source": [
    "for i in range(img.size[0]):\n",
    "    for j in range(img.size[1]):\n",
    "        pixels[i,j]=(i,j,test[i*28+j])\n",
    "img.show()"
   ]
  },
  {
   "cell_type": "code",
   "execution_count": 76,
   "metadata": {
    "collapsed": false
   },
   "outputs": [
    {
     "data": {
      "text/plain": [
       "array([  1,   0,   0,   0,   0,   0,   0,   0,   0,   0,   0,   0,   0,\n",
       "         0,   0,   0,   0,   0,   0,   0,   0,   0,   0,   0,   0,   0,\n",
       "         0,   0,   0,   0,   0,   0,   0,   0,   0,   0,   0,   0,   0,\n",
       "         0,   0,   0,   0,   0,   0,   0,   0,   0,   0,   0,   0,   0,\n",
       "         0,   0,   0,   0,   0,   0,   0,   0,   0,   0,   0,   0,   0,\n",
       "         0,   0,   0,   0,   0,   0,   0,   0,   0,   0,   0,   0,   0,\n",
       "         0,   0,   0,   0,   0,   0,   0,   0,   0,   0,   0,   0,   0,\n",
       "         0,   0,   0,   0,   0,   0,   0,   0,   0,   0,   0,   0,   0,\n",
       "         0,   0,   0,   0,   0,   0,   0,   0,   0,   0,   0,   0,   0,\n",
       "         0,   0,   0,   0,   0,   0,  18,  30, 137, 137, 192,  86,  72,\n",
       "         1,   0,   0,   0,   0,   0,   0,   0,   0,   0,   0,   0,   0,\n",
       "         0,   0,   0,   0,   0,   0,  13,  86, 250, 254, 254, 254, 254,\n",
       "       217, 246, 151,  32,   0,   0,   0,   0,   0,   0,   0,   0,   0,\n",
       "         0,   0,   0,   0,   0,   0,   0,  16, 179, 254, 254, 254, 254,\n",
       "       254, 254, 254, 254, 254, 231,  54,  15,   0,   0,   0,   0,   0,\n",
       "         0,   0,   0,   0,   0,   0,   0,   0,   0,  72, 254, 254, 254,\n",
       "       254, 254, 254, 254, 254, 254, 254, 254, 254, 104,   0,   0,   0,\n",
       "         0,   0,   0,   0,   0,   0,   0,   0,   0,   0,  61, 191, 254,\n",
       "       254, 254, 254, 254, 109,  83, 199, 254, 254, 254, 254, 243,  85,\n",
       "         0,   0,   0,   0,   0,   0,   0,   0,   0,   0,   0,   0, 172,\n",
       "       254, 254, 254, 202, 147, 147,  45,   0,  11,  29, 200, 254, 254,\n",
       "       254, 171,   0,   0,   0,   0,   0,   0,   0,   0,   0,   0,   0,\n",
       "         1, 174, 254, 254,  89,  67,   0,   0,   0,   0,   0,   0, 128,\n",
       "       252, 254, 254, 212,  76,   0,   0,   0,   0,   0,   0,   0,   0,\n",
       "         0,   0,  47, 254, 254, 254,  29,   0,   0,   0,   0,   0,   0,\n",
       "         0,   0,  83, 254, 254, 254, 153,   0,   0,   0,   0,   0,   0,\n",
       "         0,   0,   0,   0,  80, 254, 254, 240,  24,   0,   0,   0,   0,\n",
       "         0,   0,   0,   0,  25, 240, 254, 254, 153,   0,   0,   0,   0,\n",
       "         0,   0,   0,   0,   0,   0,  64, 254, 254, 186,   7,   0,   0,\n",
       "         0,   0,   0,   0,   0,   0,   0, 166, 254, 254, 224,  12,   0,\n",
       "         0,   0,   0,   0,   0,   0,   0,  14, 232, 254, 254, 254,  29,\n",
       "         0,   0,   0,   0,   0,   0,   0,   0,   0,  75, 254, 254, 254,\n",
       "        17,   0,   0,   0,   0,   0,   0,   0,   0,  18, 254, 254, 254,\n",
       "       254,  29,   0,   0,   0,   0,   0,   0,   0,   0,   0,  48, 254,\n",
       "       254, 254,  17,   0,   0,   0,   0,   0,   0,   0,   0,   2, 163,\n",
       "       254, 254, 254,  29,   0,   0,   0,   0,   0,   0,   0,   0,   0,\n",
       "        48, 254, 254, 254,  17,   0,   0,   0,   0,   0,   0,   0,   0,\n",
       "         0,  94, 254, 254, 254, 200,  12,   0,   0,   0,   0,   0,   0,\n",
       "         0,  16, 209, 254, 254, 150,   1,   0,   0,   0,   0,   0,   0,\n",
       "         0,   0,   0,  15, 206, 254, 254, 254, 202,  66,   0,   0,   0,\n",
       "         0,   0,  21, 161, 254, 254, 245,  31,   0,   0,   0,   0,   0,\n",
       "         0,   0,   0,   0,   0,   0,  60, 212, 254, 254, 254, 194,  48,\n",
       "        48,  34,  41,  48, 209, 254, 254, 254, 171,   0,   0,   0,   0,\n",
       "         0,   0,   0,   0,   0,   0,   0,   0,   0,  86, 243, 254, 254,\n",
       "       254, 254, 254, 233, 243, 254, 254, 254, 254, 254,  86,   0,   0,\n",
       "         0,   0,   0,   0,   0,   0,   0,   0,   0,   0,   0,   0, 114,\n",
       "       254, 254, 254, 254, 254, 254, 254, 254, 254, 254, 239,  86,  11,\n",
       "         0,   0,   0,   0,   0,   0,   0,   0,   0,   0,   0,   0,   0,\n",
       "         0,  13, 182, 254, 254, 254, 254, 254, 254, 254, 254, 243,  70,\n",
       "         0,   0,   0,   0,   0,   0,   0,   0,   0,   0,   0,   0,   0,\n",
       "         0,   0,   0,   0,   8,  76, 146, 254, 255, 254, 255, 146,  19,\n",
       "        15,   0,   0,   0,   0,   0,   0,   0,   0,   0,   0,   0,   0,\n",
       "         0,   0,   0,   0,   0,   0,   0,   0,   0,   0,   0,   0,   0,\n",
       "         0,   0,   0,   0,   0,   0,   0,   0,   0,   0,   0,   0,   0,\n",
       "         0,   0,   0,   0,   0,   0,   0,   0,   0,   0,   0,   0,   0,\n",
       "         0,   0,   0,   0,   0,   0,   0,   0,   0,   0,   0,   0,   0,\n",
       "         0,   0,   0,   0,   0,   0,   0,   0,   0,   0,   0,   0,   0,\n",
       "         0,   0,   0,   0,   0,   0,   0,   0,   0,   0,   0,   0,   0,\n",
       "         0,   0,   0,   0,   0,   0,   0,   0,   0,   0,   0,   0,   0,\n",
       "         0,   0,   0,   0,   0,   0,   0,   0,   0,   0,   0,   0,   0,\n",
       "         0,   0,   0,   0,   0])"
      ]
     },
     "execution_count": 76,
     "metadata": {},
     "output_type": "execute_result"
    }
   ],
   "source": [
    "test"
   ]
  },
  {
   "cell_type": "code",
   "execution_count": null,
   "metadata": {
    "collapsed": true
   },
   "outputs": [],
   "source": []
  }
 ],
 "metadata": {
  "kernelspec": {
   "display_name": "Python 3",
   "language": "python",
   "name": "python3"
  },
  "language_info": {
   "codemirror_mode": {
    "name": "ipython",
    "version": 3
   },
   "file_extension": ".py",
   "mimetype": "text/x-python",
   "name": "python",
   "nbconvert_exporter": "python",
   "pygments_lexer": "ipython3",
   "version": "3.4.0"
  }
 },
 "nbformat": 4,
 "nbformat_minor": 0
}
