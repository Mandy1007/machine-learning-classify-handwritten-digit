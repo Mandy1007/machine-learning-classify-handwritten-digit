{
 "cells": [
  {
   "cell_type": "code",
   "execution_count": 12,
   "metadata": {
    "collapsed": false
   },
   "outputs": [
    {
     "name": "stdout",
     "output_type": "stream",
     "text": [
      "Populating the interactive namespace from numpy and matplotlib\n"
     ]
    }
   ],
   "source": [
    "%pylab inline \n",
    "# https://www.terminal.com/snapshot/86889ee10f164c1bebcb47a37007e490d7a4c26fb20d6772c6eb232701868ff0\n",
    "# pandas and numpy\n",
    "# not so much of pandas but for read_csv which is more efficient than numpy.loadtxt\n",
    "import numpy as np\n",
    "import pandas as pd\n",
    "\n",
    "# scikit-learn classifiers and cross validation utils\n",
    "from sklearn.ensemble import RandomForestClassifier\n",
    "from sklearn.svm import SVC\n",
    "from sklearn.grid_search import GridSearchCV\n",
    "\n",
    "# scikit-learn dimension reduction\n",
    "from sklearn.decomposition import PCA\n",
    "\n",
    "# scikit-learn dataset processing utils\n",
    "from sklearn.preprocessing import MinMaxScaler"
   ]
  },
  {
   "cell_type": "code",
   "execution_count": 6,
   "metadata": {
    "collapsed": false
   },
   "outputs": [
    {
     "data": {
      "text/plain": [
       "(42000, 785)"
      ]
     },
     "execution_count": 6,
     "metadata": {},
     "output_type": "execute_result"
    }
   ],
   "source": [
    "df = pd.read_csv('/root/machine-learning-classify-handwritten-digit/randomForest/Data/train.csv')\n",
    "df = df.astype('float64')\n",
    "df.shape\n"
   ]
  },
  {
   "cell_type": "code",
   "execution_count": 9,
   "metadata": {
    "collapsed": true
   },
   "outputs": [
    {
     "data": {
      "text/html": [
       "<div>\n",
       "<table border=\"1\" class=\"dataframe\">\n",
       "  <thead>\n",
       "    <tr style=\"text-align: right;\">\n",
       "      <th></th>\n",
       "      <th>pixel199</th>\n",
       "      <th>pixel200</th>\n",
       "      <th>pixel201</th>\n",
       "      <th>pixel202</th>\n",
       "      <th>pixel203</th>\n",
       "      <th>pixel204</th>\n",
       "      <th>pixel205</th>\n",
       "      <th>pixel206</th>\n",
       "      <th>pixel207</th>\n",
       "      <th>pixel208</th>\n",
       "      <th>pixel209</th>\n",
       "      <th>pixel210</th>\n",
       "      <th>pixel211</th>\n",
       "      <th>pixel212</th>\n",
       "      <th>pixel213</th>\n",
       "    </tr>\n",
       "  </thead>\n",
       "  <tbody>\n",
       "    <tr>\n",
       "      <th>1000</th>\n",
       "      <td>0</td>\n",
       "      <td>0</td>\n",
       "      <td>0</td>\n",
       "      <td>0</td>\n",
       "      <td>0</td>\n",
       "      <td>0</td>\n",
       "      <td>0</td>\n",
       "      <td>0</td>\n",
       "      <td>0</td>\n",
       "      <td>0</td>\n",
       "      <td>211</td>\n",
       "      <td>239</td>\n",
       "      <td>42</td>\n",
       "      <td>0</td>\n",
       "      <td>0</td>\n",
       "    </tr>\n",
       "    <tr>\n",
       "      <th>1001</th>\n",
       "      <td>0</td>\n",
       "      <td>0</td>\n",
       "      <td>0</td>\n",
       "      <td>0</td>\n",
       "      <td>0</td>\n",
       "      <td>0</td>\n",
       "      <td>0</td>\n",
       "      <td>0</td>\n",
       "      <td>0</td>\n",
       "      <td>0</td>\n",
       "      <td>0</td>\n",
       "      <td>0</td>\n",
       "      <td>0</td>\n",
       "      <td>0</td>\n",
       "      <td>0</td>\n",
       "    </tr>\n",
       "    <tr>\n",
       "      <th>1002</th>\n",
       "      <td>0</td>\n",
       "      <td>0</td>\n",
       "      <td>0</td>\n",
       "      <td>0</td>\n",
       "      <td>0</td>\n",
       "      <td>0</td>\n",
       "      <td>0</td>\n",
       "      <td>0</td>\n",
       "      <td>0</td>\n",
       "      <td>0</td>\n",
       "      <td>51</td>\n",
       "      <td>254</td>\n",
       "      <td>254</td>\n",
       "      <td>139</td>\n",
       "      <td>0</td>\n",
       "    </tr>\n",
       "    <tr>\n",
       "      <th>1003</th>\n",
       "      <td>0</td>\n",
       "      <td>0</td>\n",
       "      <td>0</td>\n",
       "      <td>0</td>\n",
       "      <td>0</td>\n",
       "      <td>0</td>\n",
       "      <td>0</td>\n",
       "      <td>224</td>\n",
       "      <td>253</td>\n",
       "      <td>222</td>\n",
       "      <td>72</td>\n",
       "      <td>0</td>\n",
       "      <td>0</td>\n",
       "      <td>0</td>\n",
       "      <td>0</td>\n",
       "    </tr>\n",
       "    <tr>\n",
       "      <th>1004</th>\n",
       "      <td>0</td>\n",
       "      <td>0</td>\n",
       "      <td>0</td>\n",
       "      <td>0</td>\n",
       "      <td>0</td>\n",
       "      <td>0</td>\n",
       "      <td>0</td>\n",
       "      <td>0</td>\n",
       "      <td>2</td>\n",
       "      <td>132</td>\n",
       "      <td>254</td>\n",
       "      <td>215</td>\n",
       "      <td>55</td>\n",
       "      <td>0</td>\n",
       "      <td>0</td>\n",
       "    </tr>\n",
       "    <tr>\n",
       "      <th>1005</th>\n",
       "      <td>0</td>\n",
       "      <td>0</td>\n",
       "      <td>0</td>\n",
       "      <td>46</td>\n",
       "      <td>221</td>\n",
       "      <td>253</td>\n",
       "      <td>253</td>\n",
       "      <td>253</td>\n",
       "      <td>183</td>\n",
       "      <td>253</td>\n",
       "      <td>253</td>\n",
       "      <td>253</td>\n",
       "      <td>253</td>\n",
       "      <td>228</td>\n",
       "      <td>0</td>\n",
       "    </tr>\n",
       "    <tr>\n",
       "      <th>1006</th>\n",
       "      <td>0</td>\n",
       "      <td>0</td>\n",
       "      <td>0</td>\n",
       "      <td>0</td>\n",
       "      <td>0</td>\n",
       "      <td>0</td>\n",
       "      <td>0</td>\n",
       "      <td>0</td>\n",
       "      <td>12</td>\n",
       "      <td>171</td>\n",
       "      <td>252</td>\n",
       "      <td>253</td>\n",
       "      <td>252</td>\n",
       "      <td>252</td>\n",
       "      <td>230</td>\n",
       "    </tr>\n",
       "    <tr>\n",
       "      <th>1007</th>\n",
       "      <td>0</td>\n",
       "      <td>0</td>\n",
       "      <td>0</td>\n",
       "      <td>0</td>\n",
       "      <td>0</td>\n",
       "      <td>0</td>\n",
       "      <td>0</td>\n",
       "      <td>0</td>\n",
       "      <td>0</td>\n",
       "      <td>0</td>\n",
       "      <td>0</td>\n",
       "      <td>0</td>\n",
       "      <td>0</td>\n",
       "      <td>34</td>\n",
       "      <td>82</td>\n",
       "    </tr>\n",
       "    <tr>\n",
       "      <th>1008</th>\n",
       "      <td>0</td>\n",
       "      <td>0</td>\n",
       "      <td>0</td>\n",
       "      <td>0</td>\n",
       "      <td>0</td>\n",
       "      <td>0</td>\n",
       "      <td>0</td>\n",
       "      <td>0</td>\n",
       "      <td>0</td>\n",
       "      <td>0</td>\n",
       "      <td>10</td>\n",
       "      <td>29</td>\n",
       "      <td>41</td>\n",
       "      <td>141</td>\n",
       "      <td>141</td>\n",
       "    </tr>\n",
       "    <tr>\n",
       "      <th>1009</th>\n",
       "      <td>0</td>\n",
       "      <td>0</td>\n",
       "      <td>0</td>\n",
       "      <td>0</td>\n",
       "      <td>0</td>\n",
       "      <td>0</td>\n",
       "      <td>241</td>\n",
       "      <td>252</td>\n",
       "      <td>106</td>\n",
       "      <td>0</td>\n",
       "      <td>0</td>\n",
       "      <td>0</td>\n",
       "      <td>0</td>\n",
       "      <td>0</td>\n",
       "      <td>253</td>\n",
       "    </tr>\n",
       "    <tr>\n",
       "      <th>1010</th>\n",
       "      <td>0</td>\n",
       "      <td>0</td>\n",
       "      <td>0</td>\n",
       "      <td>0</td>\n",
       "      <td>0</td>\n",
       "      <td>0</td>\n",
       "      <td>0</td>\n",
       "      <td>0</td>\n",
       "      <td>0</td>\n",
       "      <td>0</td>\n",
       "      <td>0</td>\n",
       "      <td>0</td>\n",
       "      <td>0</td>\n",
       "      <td>57</td>\n",
       "      <td>250</td>\n",
       "    </tr>\n",
       "  </tbody>\n",
       "</table>\n",
       "</div>"
      ],
      "text/plain": [
       "      pixel199  pixel200  pixel201  pixel202  pixel203  pixel204  pixel205  \\\n",
       "1000         0         0         0         0         0         0         0   \n",
       "1001         0         0         0         0         0         0         0   \n",
       "1002         0         0         0         0         0         0         0   \n",
       "1003         0         0         0         0         0         0         0   \n",
       "1004         0         0         0         0         0         0         0   \n",
       "1005         0         0         0        46       221       253       253   \n",
       "1006         0         0         0         0         0         0         0   \n",
       "1007         0         0         0         0         0         0         0   \n",
       "1008         0         0         0         0         0         0         0   \n",
       "1009         0         0         0         0         0         0       241   \n",
       "1010         0         0         0         0         0         0         0   \n",
       "\n",
       "      pixel206  pixel207  pixel208  pixel209  pixel210  pixel211  pixel212  \\\n",
       "1000         0         0         0       211       239        42         0   \n",
       "1001         0         0         0         0         0         0         0   \n",
       "1002         0         0         0        51       254       254       139   \n",
       "1003       224       253       222        72         0         0         0   \n",
       "1004         0         2       132       254       215        55         0   \n",
       "1005       253       183       253       253       253       253       228   \n",
       "1006         0        12       171       252       253       252       252   \n",
       "1007         0         0         0         0         0         0        34   \n",
       "1008         0         0         0        10        29        41       141   \n",
       "1009       252       106         0         0         0         0         0   \n",
       "1010         0         0         0         0         0         0        57   \n",
       "\n",
       "      pixel213  \n",
       "1000         0  \n",
       "1001         0  \n",
       "1002         0  \n",
       "1003         0  \n",
       "1004         0  \n",
       "1005         0  \n",
       "1006       230  \n",
       "1007        82  \n",
       "1008       141  \n",
       "1009       253  \n",
       "1010       250  "
      ]
     },
     "execution_count": 9,
     "metadata": {},
     "output_type": "execute_result"
    }
   ],
   "source": [
    "df.ix[1000:1010,200:215]"
   ]
  },
  {
   "cell_type": "code",
   "execution_count": 13,
   "metadata": {
    "collapsed": false,
    "scrolled": true
   },
   "outputs": [
    {
     "data": {
      "image/png": "[encoded data removed]",
      "text/plain": [
       "<matplotlib.figure.Figure at 0x7f0a835b2358>"
      ]
     },
     "metadata": {},
     "output_type": "display_data"
    }
   ],
   "source": [
    "f, (ax1, ax2, ax3, ax4) = subplots(ncols=4)\n",
    "\n",
    "imsize = (28, 28)\n",
    "ax1.matshow(np.reshape(df.ix[35023,1:], imsize), cmap='gray_r')\n",
    "ax2.matshow(np.reshape(df.ix[1008,1:], imsize), cmap='gray_r')\n",
    "ax3.matshow(np.reshape(df.ix[1009,1:], imsize), cmap='gray_r')\n",
    "ax4.matshow(np.reshape(df.ix[1012,1:], imsize), cmap='gray_r')\n",
    "\n",
    "f.tight_layout();\n"
   ]
  },
  {
   "cell_type": "code",
   "execution_count": 14,
   "metadata": {
    "collapsed": true
   },
   "outputs": [],
   "source": [
    "#SVM\n",
    "#Create scaler and PCA objects\n",
    "\n",
    "min_max_scaler = MinMaxScaler()\n",
    "pca = PCA(n_components=80)"
   ]
  },
  {
   "cell_type": "code",
   "execution_count": 16,
   "metadata": {
    "collapsed": true
   },
   "outputs": [],
   "source": [
    "X = min_max_scaler.fit_transform(df.ix[:9999,1:])\n",
    "X = pca.fit_transform(X)\n",
    "\n",
    "y = df.ix[:9999,0]"
   ]
  },
  {
   "cell_type": "code",
   "execution_count": 17,
   "metadata": {
    "collapsed": false
   },
   "outputs": [
    {
     "name": "stdout",
     "output_type": "stream",
     "text": [
      "Fitting 3 folds for each of 13 candidates, totalling 39 fits\n",
      "[CV] kernel=rbf, gamma=0.1, C=10 .....................................\n",
      "[CV] ............................ kernel=rbf, gamma=0.1, C=10 -  19.2s\n",
      "[CV] kernel=rbf, gamma=0.1, C=10 .....................................\n",
      "[CV] ............................ kernel=rbf, gamma=0.1, C=10 -  19.3s\n",
      "[CV] kernel=rbf, gamma=0.1, C=10 .....................................\n",
      "[CV] ............................ kernel=rbf, gamma=0.1, C=10 -  19.7s\n",
      "[CV] kernel=rbf, gamma=0.01, C=10 ....................................\n",
      "[CV] ........................... kernel=rbf, gamma=0.01, C=10 -   3.4s\n",
      "[CV] kernel=rbf, gamma=0.01, C=10 ....................................\n",
      "[CV] ........................... kernel=rbf, gamma=0.01, C=10 -   3.4s\n",
      "[CV] kernel=rbf, gamma=0.01, C=10 ....................................\n",
      "[CV] ........................... kernel=rbf, gamma=0.01, C=10 -   3.5s\n",
      "[CV] kernel=rbf, gamma=0.001, C=10 ...................................\n",
      "[CV] .......................... kernel=rbf, gamma=0.001, C=10 -   3.5s\n",
      "[CV] kernel=rbf, gamma=0.001, C=10 ...................................\n",
      "[CV] .......................... kernel=rbf, gamma=0.001, C=10 -   3.6s\n",
      "[CV] kernel=rbf, gamma=0.001, C=10 ...................................\n",
      "[CV] .......................... kernel=rbf, gamma=0.001, C=10 -   3.6s\n",
      "[CV] kernel=rbf, gamma=0.1, C=100 ....................................\n",
      "[CV] ........................... kernel=rbf, gamma=0.1, C=100 -  19.2s\n",
      "[CV] kernel=rbf, gamma=0.1, C=100 ....................................\n",
      "[CV] ........................... kernel=rbf, gamma=0.1, C=100 -  19.3s\n",
      "[CV] kernel=rbf, gamma=0.1, C=100 ....................................\n",
      "[CV] ........................... kernel=rbf, gamma=0.1, C=100 -  19.5s\n",
      "[CV] kernel=rbf, gamma=0.01, C=100 ...................................\n",
      "[CV] .......................... kernel=rbf, gamma=0.01, C=100 -   3.4s\n",
      "[CV] kernel=rbf, gamma=0.01, C=100 ...................................\n",
      "[CV] .......................... kernel=rbf, gamma=0.01, C=100 -   3.4s\n",
      "[CV] kernel=rbf, gamma=0.01, C=100 ...................................\n",
      "[CV] .......................... kernel=rbf, gamma=0.01, C=100 -   3.5s\n",
      "[CV] kernel=rbf, gamma=0.001, C=100 ..................................\n",
      "[CV] ......................... kernel=rbf, gamma=0.001, C=100 -   2.9s\n",
      "[CV] kernel=rbf, gamma=0.001, C=100 ..................................\n",
      "[CV] ......................... kernel=rbf, gamma=0.001, C=100 -   2.9s\n",
      "[CV] kernel=rbf, gamma=0.001, C=100 ..................................\n",
      "[CV] ......................... kernel=rbf, gamma=0.001, C=100 -   2.9s\n",
      "[CV] kernel=rbf, gamma=0.1, C=1000 ...................................\n",
      "[CV] .......................... kernel=rbf, gamma=0.1, C=1000 -  19.2s\n",
      "[CV] kernel=rbf, gamma=0.1, C=1000 ...................................\n",
      "[CV] .......................... kernel=rbf, gamma=0.1, C=1000 -  19.2s\n",
      "[CV] kernel=rbf, gamma=0.1, C=1000 ...................................\n",
      "[CV] .......................... kernel=rbf, gamma=0.1, C=1000 -  19.2s\n",
      "[CV] kernel=rbf, gamma=0.01, C=1000 ..................................\n",
      "[CV] ......................... kernel=rbf, gamma=0.01, C=1000 -   3.4s\n",
      "[CV] kernel=rbf, gamma=0.01, C=1000 ..................................\n",
      "[CV] ......................... kernel=rbf, gamma=0.01, C=1000 -   3.4s\n",
      "[CV] kernel=rbf, gamma=0.01, C=1000 ..................................\n",
      "[CV] ......................... kernel=rbf, gamma=0.01, C=1000 -   3.4s\n",
      "[CV] kernel=rbf, gamma=0.001, C=1000 .................................\n",
      "[CV] ........................ kernel=rbf, gamma=0.001, C=1000 -   3.0s\n",
      "[CV] kernel=rbf, gamma=0.001, C=1000 .................................\n",
      "[CV] ........................ kernel=rbf, gamma=0.001, C=1000 -   3.0s\n",
      "[CV] kernel=rbf, gamma=0.001, C=1000 .................................\n",
      "[CV] ........................ kernel=rbf, gamma=0.001, C=1000 -   3.0s\n",
      "[CV] degree=5, kernel=poly, C=1 ......................................\n",
      "[CV] ............................. degree=5, kernel=poly, C=1 -  14.1s\n",
      "[CV] degree=5, kernel=poly, C=1 ......................................\n",
      "[CV] ............................. degree=5, kernel=poly, C=1 -  14.3s\n",
      "[CV] degree=5, kernel=poly, C=1 ......................................\n",
      "[CV] ............................. degree=5, kernel=poly, C=1 -  14.0s\n",
      "[CV] degree=9, kernel=poly, C=1 ......................................\n",
      "[CV] ............................. degree=9, kernel=poly, C=1 -  16.2s\n",
      "[CV] degree=9, kernel=poly, C=1 ......................................\n",
      "[CV] ............................. degree=9, kernel=poly, C=1 -  16.6s\n",
      "[CV] degree=9, kernel=poly, C=1 ......................................\n",
      "[CV] ............................. degree=9, kernel=poly, C=1 -  16.6s\n",
      "[CV] degree=5, kernel=poly, C=10 .....................................\n",
      "[CV] ............................ degree=5, kernel=poly, C=10 -   9.9s\n",
      "[CV] degree=5, kernel=poly, C=10 .....................................\n",
      "[CV] ............................ degree=5, kernel=poly, C=10 -  10.0s\n",
      "[CV] degree=5, kernel=poly, C=10 .....................................\n",
      "[CV] ............................ degree=5, kernel=poly, C=10 -   9.9s\n",
      "[CV] degree=9, kernel=poly, C=10 .....................................\n",
      "[CV] ............................ degree=9, kernel=poly, C=10 -  16.1s\n",
      "[CV] degree=9, kernel=poly, C=10 .....................................\n",
      "[CV] ............................ degree=9, kernel=poly, C=10 -  16.0s\n",
      "[CV] degree=9, kernel=poly, C=10 .....................................\n",
      "[CV] ............................ degree=9, kernel=poly, C=10 -  15.9s"
     ]
    },
    {
     "name": "stderr",
     "output_type": "stream",
     "text": [
      "[Parallel(n_jobs=1)]: Done   1 jobs       | elapsed:   19.2s\n",
      "[Parallel(n_jobs=1)]: Done  39 out of  39 | elapsed:  6.7min finished\n"
     ]
    },
    {
     "name": "stdout",
     "output_type": "stream",
     "text": [
      "\n"
     ]
    }
   ],
   "source": [
    "tuned_parameters = [{'kernel' : ['rbf'], 'gamma': [0.1, 1e-2, 1e-3], 'C': [10, 100, 1000]}, \n",
    "                    {'kernel' : ['poly'], 'degree' : [5, 9], 'C' : [1, 10]}]\n",
    "\n",
    "svm = GridSearchCV( SVC(), tuned_parameters, cv=3, verbose=2 ).fit(X, y)"
   ]
  },
  {
   "cell_type": "code",
   "execution_count": 18,
   "metadata": {
    "collapsed": false
   },
   "outputs": [
    {
     "data": {
      "text/plain": [
       "SVC(C=100, cache_size=200, class_weight=None, coef0=0.0, degree=3, gamma=0.01,\n",
       "  kernel='rbf', max_iter=-1, probability=False, random_state=None,\n",
       "  shrinking=True, tol=0.001, verbose=False)"
      ]
     },
     "execution_count": 18,
     "metadata": {},
     "output_type": "execute_result"
    }
   ],
   "source": [
    "svm.best_estimator_"
   ]
  },
  {
   "cell_type": "code",
   "execution_count": 21,
   "metadata": {
    "collapsed": true
   },
   "outputs": [],
   "source": [
    "Xt = min_max_scaler.transform(df.ix[35000:,1:])\n",
    "yt = df.ix[35000:,0]\n",
    "\n",
    "yp = svm.predict(pca.transform(Xt))"
   ]
  },
  {
   "cell_type": "code",
   "execution_count": 31,
   "metadata": {
    "collapsed": false
   },
   "outputs": [
    {
     "name": "stdout",
     "output_type": "stream",
     "text": [
      "prediction accuracy: 0.9681\n"
     ]
    }
   ],
   "source": [
    "print ('prediction accuracy: %.4f' % (1./len(yt) * sum( yp == yt )))"
   ]
  },
  {
   "cell_type": "code",
   "execution_count": 33,
   "metadata": {
    "collapsed": false
   },
   "outputs": [
    {
     "name": "stdout",
     "output_type": "stream",
     "text": [
      "[2 2 5 4 7 6 0 6 9 5 4 8 5 2 6 2 3 9 3 9 4 0 4 5 2 0 6 5 5 0]\n"
     ]
    }
   ],
   "source": [
    "print (yp[:30].astype(int))"
   ]
  },
  {
   "cell_type": "code",
   "execution_count": 35,
   "metadata": {
    "collapsed": false
   },
   "outputs": [
    {
     "data": {
      "image/png": "[encoded data removed]",
      "text/plain": [
       "<matplotlib.figure.Figure at 0x7f0a7f784978>"
      ]
     },
     "metadata": {},
     "output_type": "display_data"
    }
   ],
   "source": [
    "f, (ax1, ax2, ax3, ax4) = subplots(ncols=4)\n",
    "\n",
    "imsize = (28, 28)\n",
    "ax1.matshow(np.reshape(df.ix[35000,1:], imsize), cmap='gray_r')\n",
    "ax2.matshow(np.reshape(df.ix[35001,1:], imsize), cmap='gray_r')\n",
    "ax3.matshow(np.reshape(df.ix[35002,1:], imsize), cmap='gray_r')\n",
    "ax4.matshow(np.reshape(df.ix[35003,1:], imsize), cmap='gray_r')\n",
    "\n",
    "f.tight_layout();"
   ]
  },
  {
   "cell_type": "code",
   "execution_count": 37,
   "metadata": {
    "collapsed": false
   },
   "outputs": [
    {
     "name": "stdout",
     "output_type": "stream",
     "text": [
      "Fitting 3 folds for each of 4 candidates, totalling 12 fits\n",
      "[CV] max_features=sqrt, n_estimators=1000 ............................\n",
      "[CV] ................... max_features=sqrt, n_estimators=1000 -  18.7s\n",
      "[CV] max_features=sqrt, n_estimators=1000 ............................\n",
      "[CV] ................... max_features=sqrt, n_estimators=1000 -  19.3s\n",
      "[CV] max_features=sqrt, n_estimators=1000 ............................\n",
      "[CV] ................... max_features=sqrt, n_estimators=1000 -  18.8s\n",
      "[CV] max_features=sqrt, n_estimators=1500 ............................\n",
      "[CV] ................... max_features=sqrt, n_estimators=1500 -  28.2s\n",
      "[CV] max_features=sqrt, n_estimators=1500 ............................\n",
      "[CV] ................... max_features=sqrt, n_estimators=1500 -  28.0s\n",
      "[CV] max_features=sqrt, n_estimators=1500 ............................\n",
      "[CV] ................... max_features=sqrt, n_estimators=1500 -  29.4s\n",
      "[CV] max_features=log2, n_estimators=1000 ............................\n",
      "[CV] ................... max_features=log2, n_estimators=1000 -  15.7s\n",
      "[CV] max_features=log2, n_estimators=1000 ............................\n",
      "[CV] ................... max_features=log2, n_estimators=1000 -  16.1s\n",
      "[CV] max_features=log2, n_estimators=1000 ............................\n",
      "[CV] ................... max_features=log2, n_estimators=1000 -  16.1s\n",
      "[CV] max_features=log2, n_estimators=1500 ............................\n",
      "[CV] ................... max_features=log2, n_estimators=1500 -  24.7s\n",
      "[CV] max_features=log2, n_estimators=1500 ............................\n",
      "[CV] ................... max_features=log2, n_estimators=1500 -  24.7s\n",
      "[CV] max_features=log2, n_estimators=1500 ............................\n",
      "[CV] ................... max_features=log2, n_estimators=1500 -  24.6s"
     ]
    },
    {
     "name": "stderr",
     "output_type": "stream",
     "text": [
      "[Parallel(n_jobs=1)]: Done   1 jobs       | elapsed:   18.7s\n",
      "[Parallel(n_jobs=1)]: Done  12 out of  12 | elapsed:  4.4min finished\n"
     ]
    },
    {
     "name": "stdout",
     "output_type": "stream",
     "text": [
      "\n"
     ]
    }
   ],
   "source": [
    "#RandomForest\n",
    "min_max_scaler = MinMaxScaler()\n",
    "pca = PCA(n_components=80)\n",
    "X = min_max_scaler.fit_transform(df.ix[:9999,1:])\n",
    "X = pca.fit_transform(X)\n",
    "\n",
    "y = df.ix[:9999,0]\n",
    "\n",
    "\n",
    "tuned_parameters = [{'max_features': ['sqrt', 'log2'], 'n_estimators': [1000, 1500]}]\n",
    "\n",
    "rf = GridSearchCV(RandomForestClassifier(min_samples_split=1, \n",
    "                                          n_jobs=-1), \n",
    "                  tuned_parameters, \n",
    "                  cv=3, \n",
    "                  verbose=2).fit(X, y)\n",
    "\n"
   ]
  },
  {
   "cell_type": "code",
   "execution_count": 39,
   "metadata": {
    "collapsed": false
   },
   "outputs": [
    {
     "name": "stdout",
     "output_type": "stream",
     "text": [
      "prediction accuracy: 0.9420\n"
     ]
    }
   ],
   "source": [
    "Xt = min_max_scaler.transform(df.ix[35000:,1:])\n",
    "yt = df.ix[35000:,0]\n",
    "\n",
    "yp = rf.predict(pca.transform(Xt))\n",
    "\n",
    "\n",
    "print ('prediction accuracy: %.4f' % (1./len(yt) * sum( yp == yt )))\n",
    "\n"
   ]
  },
  {
   "cell_type": "code",
   "execution_count": 40,
   "metadata": {
    "collapsed": false
   },
   "outputs": [
    {
     "name": "stdout",
     "output_type": "stream",
     "text": [
      "[2 2 5 4 7 6 0 6 4 5 4 8 5 2 6 2 3 9 3 9 4 0 4 5 2 0 6 5 5 0]\n"
     ]
    }
   ],
   "source": [
    "print (yt[:30].values.astype(int))"
   ]
  },
  {
   "cell_type": "code",
   "execution_count": 41,
   "metadata": {
    "collapsed": false
   },
   "outputs": [
    {
     "data": {
      "image/png": "[encoded data removed]",
      "text/plain": [
       "<matplotlib.figure.Figure at 0x7f0a83255ba8>"
      ]
     },
     "metadata": {},
     "output_type": "display_data"
    }
   ],
   "source": [
    "f, (ax1, ax2, ax3, ax4) = subplots(ncols=4)\n",
    "\n",
    "imsize = (28, 28)\n",
    "ax1.matshow(np.reshape(df.ix[35000,1:], imsize), cmap='gray_r')\n",
    "ax2.matshow(np.reshape(df.ix[35001,1:], imsize), cmap='gray_r')\n",
    "ax3.matshow(np.reshape(df.ix[35002,1:], imsize), cmap='gray_r')\n",
    "ax4.matshow(np.reshape(df.ix[35003,1:], imsize), cmap='gray_r')\n",
    "\n",
    "f.tight_layout();"
   ]
  },
  {
   "cell_type": "code",
   "execution_count": 42,
   "metadata": {
    "collapsed": false
   },
   "outputs": [
    {
     "name": "stderr",
     "output_type": "stream",
     "text": [
      "[Parallel(n_jobs=1)]: Done   1 jobs       | elapsed:   37.1s\n",
      "[Parallel(n_jobs=1)]: Done  27 out of  27 | elapsed:  7.3min finished\n"
     ]
    },
    {
     "name": "stdout",
     "output_type": "stream",
     "text": [
      "Fitting 3 folds for each of 9 candidates, totalling 27 fits\n",
      "Fitting 3 folds for each of 9 candidates, totalling 27 fits"
     ]
    },
    {
     "name": "stderr",
     "output_type": "stream",
     "text": [
      "[Parallel(n_jobs=1)]: Done   1 jobs       | elapsed:   37.1s\n",
      "[Parallel(n_jobs=1)]: Done  27 out of  27 | elapsed:  7.3min finished\n"
     ]
    },
    {
     "name": "stdout",
     "output_type": "stream",
     "text": [
      "\n",
      "Fitting 3 folds for each of 9 candidates, totalling 27 fits"
     ]
    },
    {
     "name": "stderr",
     "output_type": "stream",
     "text": [
      "[Parallel(n_jobs=1)]: Done   1 jobs       | elapsed:   36.9s\n",
      "[Parallel(n_jobs=1)]: Done  27 out of  27 | elapsed:  7.2min finished\n"
     ]
    },
    {
     "name": "stdout",
     "output_type": "stream",
     "text": [
      "\n"
     ]
    }
   ],
   "source": [
    "#Submission attempts\n",
    "#    First attempt: split data into three, build an SVM for each, \n",
    "#      majority voting for end prediction --> Kaggle score 0.97429\n",
    "\n",
    "\n",
    "scalers = []\n",
    "pca_xfrms = []\n",
    "clfs = []\n",
    "\n",
    "# compute indexes where to split the data\n",
    "ixs = np.arange(df.shape[0])\n",
    "splits = np.split(ixs, [14000, 28000])\n",
    "\n",
    "tuned_parameters = [{'gamma': [0.1, 1e-2, 1e-3], 'C': [10, 100, 1000]}]\n",
    "\n",
    "# use all data for training\n",
    "for s in splits:\n",
    "    min_max_scaler = MinMaxScaler()\n",
    "    pca = PCA(n_components=80)\n",
    "\n",
    "    # get training subset\n",
    "    X = df.ix[s,1:].copy()\n",
    "    y = df.ix[s,0].copy()\n",
    "    \n",
    "    # all the transformations\n",
    "    X = min_max_scaler.fit_transform(X)\n",
    "    X = pca.fit_transform(X)\n",
    "    \n",
    "    # train the classifier\n",
    "    svm = GridSearchCV( SVC(), tuned_parameters, cv=3, verbose=1 ).fit(X, y)\n",
    "    \n",
    "    # store scaler, PCA transformer, and SVM classifier for this subset\n",
    "    scalers.append(min_max_scaler)\n",
    "    pca_xfrms.append(pca)\n",
    "    clfs.append(svm)\n",
    "\n",
    "\n"
   ]
  },
  {
   "cell_type": "code",
   "execution_count": 46,
   "metadata": {
    "collapsed": true
   },
   "outputs": [],
   "source": [
    "df2 = pd.read_csv('/root/machine-learning-classify-handwritten-digit/randomForest/Data/test.csv')\n",
    "df2 = df2.astype('float64')"
   ]
  },
  {
   "cell_type": "code",
   "execution_count": 47,
   "metadata": {
    "collapsed": true
   },
   "outputs": [],
   "source": [
    "preds = np.zeros((len(clfs), df2.shape[0]))\n",
    "\n",
    "i = 0\n",
    "for scaler, xfrm, clf in zip(scalers, pca_xfrms, clfs):\n",
    "    Xt = df2.copy()\n",
    "    Xt = scaler.transform(Xt)\n",
    "    preds[i] = clf.predict(xfrm.transform(Xt))\n",
    "    \n",
    "    i += 1\n",
    "    \n",
    "total_pred = [np.bincount(x).argmax() for x in preds.T.astype(int)]\n",
    "\n"
   ]
  },
  {
   "cell_type": "code",
   "execution_count": 49,
   "metadata": {
    "collapsed": true
   },
   "outputs": [],
   "source": [
    "with open('/root/machine-learning-classify-handwritten-digit/randomForest/submission.csv', 'w') as of:\n",
    "    of.write(\"ImageId,label\\n\")\n",
    "    for x in enumerate(total_pred, start=1):\n",
    "        of.write(\"%s,%s\\n\" % x)"
   ]
  },
  {
   "cell_type": "code",
   "execution_count": null,
   "metadata": {
    "collapsed": true
   },
   "outputs": [],
   "source": [
    "# Delong\n",
    "#\t0.97371 \t2 \tSun, 25 Oct 2015 16:40:42 "
   ]
  }
 ],
 "metadata": {
  "kernelspec": {
   "display_name": "Python 3",
   "language": "python",
   "name": "python3"
  },
  "language_info": {
   "codemirror_mode": {
    "name": "ipython",
    "version": 3
   },
   "file_extension": ".py",
   "mimetype": "text/x-python",
   "name": "python",
   "nbconvert_exporter": "python",
   "pygments_lexer": "ipython3",
   "version": "3.4.3"
  }
 },
 "nbformat": 4,
 "nbformat_minor": 0
}
